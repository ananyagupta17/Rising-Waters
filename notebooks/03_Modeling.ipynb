{
 "cells": [
  {
   "cell_type": "markdown",
   "id": "7c0b606e",
   "metadata": {},
   "source": [
    "Building the 4 classification models"
   ]
  },
  {
   "cell_type": "code",
   "execution_count": 6,
   "id": "c5594c3e",
   "metadata": {},
   "outputs": [],
   "source": [
    "import pandas as pd\n",
    "import numpy as np\n",
    "from sklearn import tree\n",
    "from sklearn import ensemble\n",
    "from sklearn import neighbors\n",
    "import xgboost\n",
    "from sklearn.metrics import accuracy_score,classification_report,confusion_matrix\n",
    "from sklearn.preprocessing import StandardScaler\n",
    "from sklearn.model_selection import train_test_split\n"
   ]
  },
  {
   "cell_type": "code",
   "execution_count": 7,
   "id": "ec965308",
   "metadata": {},
   "outputs": [],
   "source": [
    "# Load data\n",
    "df = pd.read_excel('../data/clean_data.xlsx')\n",
    "X = df.drop('flood', axis=1)\n",
    "y = df['flood']\n",
    "\n",
    "X_train, X_test, y_train, y_test = train_test_split(X, y, test_size=0.2, random_state=42)\n",
    "\n",
    "scaler = StandardScaler()\n",
    "X_train_scaled = scaler.fit_transform(X_train)\n",
    "X_test_scaled = scaler.transform(X_test)"
   ]
  },
  {
   "cell_type": "code",
   "execution_count": 8,
   "id": "c8dfc1ea",
   "metadata": {},
   "outputs": [
    {
     "name": "stdout",
     "output_type": "stream",
     "text": [
      "Training accuracy through the decision tree method is: 1.0\n",
      "The accuracy through the decision tree method is: 1.0\n"
     ]
    }
   ],
   "source": [
    "# importing and building the Decision Tree model \n",
    "dtree = tree.DecisionTreeClassifier()\n",
    "dtree.fit(X_train_scaled,y_train)\n",
    "\n",
    "p_1=dtree.predict(X_train_scaled)\n",
    "print(\"Training accuracy through the decision tree method is:\", accuracy_score(y_train, p_1))\n",
    "p1 = dtree.predict(X_test_scaled)\n",
    "print(\"The accuracy through the decision tree method is:\", accuracy_score(y_test, p1))\n"
   ]
  },
  {
   "cell_type": "code",
   "execution_count": 9,
   "id": "c3f86883",
   "metadata": {},
   "outputs": [
    {
     "name": "stdout",
     "output_type": "stream",
     "text": [
      "Training accuracy through the random forest method is: 1.0\n",
      "The accuracy through the random forest method is: 1.0\n"
     ]
    }
   ],
   "source": [
    "# importing and building the Random Forest model \n",
    "Rf = ensemble.RandomForestClassifier()\n",
    "Rf.fit(X_train_scaled,y_train)\n",
    "p_2=dtree.predict(X_train_scaled)\n",
    "print(\"Training accuracy through the random forest method is:\", accuracy_score(y_train, p_2))\n",
    "p2 = Rf.predict(X_test_scaled)\n",
    "print(\"The accuracy through the random forest method is:\",accuracy_score(y_test, p2))\n",
    "\n",
    "\n"
   ]
  },
  {
   "cell_type": "code",
   "execution_count": 26,
   "id": "7c285f0d",
   "metadata": {},
   "outputs": [
    {
     "name": "stdout",
     "output_type": "stream",
     "text": [
      "Training accuracy through the Knn method is: 0.9239130434782609\n",
      "The accuracy through knn method is: 0.9130434782608695\n"
     ]
    }
   ],
   "source": [
    "# importing and building the Knn model \n",
    "knn = neighbors.KNeighborsClassifier()\n",
    "knn.fit(X_train_scaled,y_train)\n",
    "p_3=knn.predict(X_train_scaled)\n",
    "print(\"Training accuracy through the Knn method is:\",accuracy_score(y_train, p_3))\n",
    "p3 = knn.predict(X_test_scaled)\n",
    "print(\"The accuracy through knn method is:\",accuracy_score(y_test, p3))\n"
   ]
  },
  {
   "cell_type": "code",
   "execution_count": 11,
   "id": "b433e77b",
   "metadata": {},
   "outputs": [
    {
     "name": "stdout",
     "output_type": "stream",
     "text": [
      "Training accuracy through the Xgb method is: 0.9239130434782609\n",
      "The accuracy through the Xgb method is: 0.9130434782608695\n"
     ]
    }
   ],
   "source": [
    "# importing and building the Xgb model \n",
    "xgb = xgboost.XGBClassifier()\n",
    "xgb.fit(X_train_scaled,y_train)\n",
    "p_4=xgb.predict(X_train_scaled)\n",
    "print(\"Training accuracy through the Xgb method is:\",accuracy_score(y_train, p_3))\n",
    "p4 = xgb.predict(X_test_scaled)\n",
    "print(\"The accuracy through the Xgb method is:\",accuracy_score(y_test, p3))\n"
   ]
  },
  {
   "cell_type": "markdown",
   "id": "ac5e2eea",
   "metadata": {},
   "source": [
    "Evaluating Performance of the Model"
   ]
  },
  {
   "cell_type": "code",
   "execution_count": 12,
   "id": "72105d30",
   "metadata": {},
   "outputs": [
    {
     "name": "stdout",
     "output_type": "stream",
     "text": [
      "              precision    recall  f1-score   support\n",
      "\n",
      "           0       1.00      1.00      1.00        20\n",
      "           1       1.00      1.00      1.00         3\n",
      "\n",
      "    accuracy                           1.00        23\n",
      "   macro avg       1.00      1.00      1.00        23\n",
      "weighted avg       1.00      1.00      1.00        23\n",
      "\n",
      "[[20  0]\n",
      " [ 0  3]]\n"
     ]
    }
   ],
   "source": [
    "print(classification_report(y_test,p1))\n",
    "print(confusion_matrix(y_test,p1))"
   ]
  },
  {
   "cell_type": "code",
   "execution_count": 13,
   "id": "ff5e9519",
   "metadata": {},
   "outputs": [
    {
     "name": "stdout",
     "output_type": "stream",
     "text": [
      "              precision    recall  f1-score   support\n",
      "\n",
      "           0       1.00      1.00      1.00        20\n",
      "           1       1.00      1.00      1.00         3\n",
      "\n",
      "    accuracy                           1.00        23\n",
      "   macro avg       1.00      1.00      1.00        23\n",
      "weighted avg       1.00      1.00      1.00        23\n",
      "\n",
      "[[20  0]\n",
      " [ 0  3]]\n"
     ]
    }
   ],
   "source": [
    "print(classification_report(y_test,p2))\n",
    "print(confusion_matrix(y_test,p2))"
   ]
  },
  {
   "cell_type": "code",
   "execution_count": 14,
   "id": "0380c419",
   "metadata": {},
   "outputs": [
    {
     "name": "stdout",
     "output_type": "stream",
     "text": [
      "              precision    recall  f1-score   support\n",
      "\n",
      "           0       0.91      1.00      0.95        20\n",
      "           1       1.00      0.33      0.50         3\n",
      "\n",
      "    accuracy                           0.91        23\n",
      "   macro avg       0.95      0.67      0.73        23\n",
      "weighted avg       0.92      0.91      0.89        23\n",
      "\n",
      "[[20  0]\n",
      " [ 2  1]]\n"
     ]
    }
   ],
   "source": [
    "print(classification_report(y_test,p3))\n",
    "print(confusion_matrix(y_test,p3))"
   ]
  },
  {
   "cell_type": "code",
   "execution_count": 15,
   "id": "866ccfb7",
   "metadata": {},
   "outputs": [
    {
     "name": "stdout",
     "output_type": "stream",
     "text": [
      "              precision    recall  f1-score   support\n",
      "\n",
      "           0       1.00      1.00      1.00        20\n",
      "           1       1.00      1.00      1.00         3\n",
      "\n",
      "    accuracy                           1.00        23\n",
      "   macro avg       1.00      1.00      1.00        23\n",
      "weighted avg       1.00      1.00      1.00        23\n",
      "\n",
      "[[20  0]\n",
      " [ 0  3]]\n"
     ]
    }
   ],
   "source": [
    "print(classification_report(y_test,p4))\n",
    "print(confusion_matrix(y_test,p4))"
   ]
  },
  {
   "cell_type": "code",
   "execution_count": 30,
   "id": "4c68c844",
   "metadata": {},
   "outputs": [],
   "source": [
    "from sklearn.pipeline import Pipeline\n",
    "from sklearn.preprocessing import StandardScaler\n",
    "from sklearn.neighbors import KNeighborsClassifier\n",
    "import pickle\n",
    "\n",
    "pipeline = Pipeline([\n",
    "    ('scaler', StandardScaler()),\n",
    "    ('knn', KNeighborsClassifier(n_neighbors=5))  \n",
    "])\n",
    "\n",
    "pipeline.fit(X_train, y_train)\n",
    "\n",
    "with open('../models/knn_pipeline.pkl', 'wb') as f:\n",
    "    pickle.dump(pipeline, f)\n"
   ]
  },
  {
   "cell_type": "code",
   "execution_count": 28,
   "id": "f1cb7a6c",
   "metadata": {},
   "outputs": [
    {
     "name": "stdout",
     "output_type": "stream",
     "text": [
      "Training accuracy through the Knn method is: 0.9239130434782609\n",
      "The accuracy through knn method is: 0.9130434782608695\n",
      "Unique predictions on test set: (array([0, 1]), array([20,  3]))\n"
     ]
    }
   ],
   "source": []
  },
  {
   "cell_type": "code",
   "execution_count": null,
   "id": "2d448cac",
   "metadata": {},
   "outputs": [],
   "source": []
  }
 ],
 "metadata": {
  "kernelspec": {
   "display_name": "flask-ml",
   "language": "python",
   "name": "python3"
  },
  "language_info": {
   "codemirror_mode": {
    "name": "ipython",
    "version": 3
   },
   "file_extension": ".py",
   "mimetype": "text/x-python",
   "name": "python",
   "nbconvert_exporter": "python",
   "pygments_lexer": "ipython3",
   "version": "3.12.11"
  }
 },
 "nbformat": 4,
 "nbformat_minor": 5
}
