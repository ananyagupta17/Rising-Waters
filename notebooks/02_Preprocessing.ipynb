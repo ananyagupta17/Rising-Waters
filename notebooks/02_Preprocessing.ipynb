{
 "cells": [
  {
   "cell_type": "code",
   "execution_count": 1,
   "metadata": {},
   "outputs": [],
   "source": [
    "import pandas as pd\n",
    "import numpy as np\n",
    "import matplotlib as plt\n",
    "import seaborn as sns"
   ]
  },
  {
   "cell_type": "code",
   "execution_count": 2,
   "metadata": {},
   "outputs": [
    {
     "data": {
      "text/plain": [
       "Temp           False\n",
       "Humidity       False\n",
       "Cloud Cover    False\n",
       "ANNUAL         False\n",
       "Jan-Feb        False\n",
       "Mar-May        False\n",
       "Jun-Sep        False\n",
       "Oct-Dec        False\n",
       "avgjune        False\n",
       "sub            False\n",
       "flood          False\n",
       "dtype: bool"
      ]
     },
     "execution_count": 2,
     "metadata": {},
     "output_type": "execute_result"
    }
   ],
   "source": [
    "df = pd.read_excel('../data/flood_dataset_raw.xlsx')\n",
    "df.isnull().any()"
   ]
  },
  {
   "cell_type": "code",
   "execution_count": 3,
   "metadata": {},
   "outputs": [
    {
     "name": "stdout",
     "output_type": "stream",
     "text": [
      "Q1: 2627.8999999999996, Q3: 3164.1, IQR: 536.2000000000003\n",
      "Lower bound: 1823.5999999999992, Upper bound: 3968.4000000000005\n",
      "Outliers:\n",
      "23    4226.4\n",
      "32    4072.9\n",
      "60    4257.8\n",
      "Name: ANNUAL, dtype: float64\n"
     ]
    }
   ],
   "source": [
    "# Compute bounds for ANNUAL\n",
    "Q1 = df['ANNUAL'].quantile(0.25)\n",
    "Q3 = df['ANNUAL'].quantile(0.75)\n",
    "IQR = Q3 - Q1\n",
    "lower_bound = Q1 - 1.5 * IQR\n",
    "upper_bound = Q3 + 1.5 * IQR\n",
    "\n",
    "print(f\"Q1: {Q1}, Q3: {Q3}, IQR: {IQR}\")\n",
    "print(f\"Lower bound: {lower_bound}, Upper bound: {upper_bound}\")\n",
    "\n",
    "# Check outliers\n",
    "outliers = df['ANNUAL'][(df['ANNUAL'] > upper_bound) | (df['ANNUAL'] < lower_bound)]\n",
    "print(f\"Outliers:\\n{outliers}\")\n",
    "\n",
    "# Apply capping if needed\n",
    "df['ANNUAL'] = df['ANNUAL'].apply(lambda x: \n",
    "                                    upper_bound if x > upper_bound \n",
    "                                    else (lower_bound if x < lower_bound \n",
    "                                          else x))\n",
    "\n"
   ]
  },
  {
   "cell_type": "code",
   "execution_count": 4,
   "metadata": {},
   "outputs": [
    {
     "name": "stdout",
     "output_type": "stream",
     "text": [
      "Q1: 10.25, Q3: 41.6, IQR: 31.35\n",
      "Lower bound: -36.775000000000006, Upper bound: 88.625\n",
      "Outliers:\n",
      "42    98.1\n",
      "83    96.8\n",
      "Name: Jan-Feb, dtype: float64\n"
     ]
    }
   ],
   "source": [
    "# Compute bounds for Jan-Feb\n",
    "Q1 = df['Jan-Feb'].quantile(0.25)\n",
    "Q3 = df['Jan-Feb'].quantile(0.75)\n",
    "IQR = Q3 - Q1\n",
    "lower_bound = Q1 - 1.5 * IQR\n",
    "upper_bound = Q3 + 1.5 * IQR\n",
    "\n",
    "print(f\"Q1: {Q1}, Q3: {Q3}, IQR: {IQR}\")\n",
    "print(f\"Lower bound: {lower_bound}, Upper bound: {upper_bound}\")\n",
    "\n",
    "# Check outliers\n",
    "outliers = df['Jan-Feb'][(df['Jan-Feb'] > upper_bound) | (df['Jan-Feb'] < lower_bound)]\n",
    "print(f\"Outliers:\\n{outliers}\")\n",
    "\n",
    "# Apply capping if needed\n",
    "df['Jan-Feb'] = df['Jan-Feb'].apply(lambda x: \n",
    "                                    upper_bound if x > upper_bound \n",
    "                                    else (lower_bound if x < lower_bound \n",
    "                                          else x))\n"
   ]
  },
  {
   "cell_type": "code",
   "execution_count": 5,
   "metadata": {},
   "outputs": [
    {
     "name": "stdout",
     "output_type": "stream",
     "text": [
      "Q1: 276.75, Q3: 442.29999999999995, IQR: 165.54999999999995\n",
      "Lower bound: 28.425000000000068, Upper bound: 690.6249999999999\n",
      "Outliers:\n",
      "17     767.0\n",
      "31     788.1\n",
      "32     915.2\n",
      "54     698.3\n",
      "59     791.0\n",
      "103    762.0\n",
      "Name: Mar-May, dtype: float64\n"
     ]
    }
   ],
   "source": [
    "# Compute bounds for Mar-May\n",
    "Q1 = df['Mar-May'].quantile(0.25)\n",
    "Q3 = df['Mar-May'].quantile(0.75)\n",
    "IQR = Q3 - Q1\n",
    "lower_bound = Q1 - 1.5 * IQR\n",
    "upper_bound = Q3 + 1.5 * IQR\n",
    "\n",
    "print(f\"Q1: {Q1}, Q3: {Q3}, IQR: {IQR}\")\n",
    "print(f\"Lower bound: {lower_bound}, Upper bound: {upper_bound}\")\n",
    "\n",
    "# Check outliers\n",
    "outliers = df['Mar-May'][(df['Mar-May'] > upper_bound) | (df['Mar-May'] < lower_bound)]\n",
    "print(f\"Outliers:\\n{outliers}\")\n",
    "\n",
    "# Apply capping if needed\n",
    "df['Mar-May'] = df['Mar-May'].apply(lambda x: \n",
    "                                    upper_bound if x > upper_bound \n",
    "                                    else (lower_bound if x < lower_bound \n",
    "                                          else x))\n"
   ]
  },
  {
   "cell_type": "code",
   "execution_count": 6,
   "metadata": {},
   "outputs": [
    {
     "name": "stdout",
     "output_type": "stream",
     "text": [
      "Q1: 1768.85, Q3: 2242.8999999999996, IQR: 474.0499999999997\n",
      "Lower bound: 1057.7750000000003, Upper bound: 2953.9749999999995\n",
      "Outliers:\n",
      "23    3451.3\n",
      "60    3229.3\n",
      "Name: Jun-Sep, dtype: float64\n"
     ]
    }
   ],
   "source": [
    "# Compute bounds for Jun-Sep\n",
    "Q1 = df['Jun-Sep'].quantile(0.25)\n",
    "Q3 = df['Jun-Sep'].quantile(0.75)\n",
    "IQR = Q3 - Q1\n",
    "lower_bound = Q1 - 1.5 * IQR\n",
    "upper_bound = Q3 + 1.5 * IQR\n",
    "\n",
    "print(f\"Q1: {Q1}, Q3: {Q3}, IQR: {IQR}\")\n",
    "print(f\"Lower bound: {lower_bound}, Upper bound: {upper_bound}\")\n",
    "\n",
    "# Check outliers\n",
    "outliers = df['Jun-Sep'][(df['Jun-Sep'] > upper_bound) | (df['Jun-Sep'] < lower_bound)]\n",
    "print(f\"Outliers:\\n{outliers}\")\n",
    "\n",
    "# Apply capping if needed\n",
    "df['Jun-Sep'] = df['Jun-Sep'].apply(lambda x: \n",
    "                                    upper_bound if x > upper_bound \n",
    "                                    else (lower_bound if x < lower_bound \n",
    "                                          else x))"
   ]
  },
  {
   "cell_type": "code",
   "execution_count": 7,
   "metadata": {},
   "outputs": [],
   "source": [
    "X = df.iloc[:,2:7].values\n",
    "y = df.iloc[:,9:].values"
   ]
  },
  {
   "cell_type": "code",
   "execution_count": 10,
   "metadata": {},
   "outputs": [],
   "source": [
    "#Export dataframe to excel\n",
    "df.to_excel('../data/clean_data.xlsx', index=False)\n"
   ]
  },
  {
   "cell_type": "code",
   "execution_count": 9,
   "metadata": {},
   "outputs": [
    {
     "ename": "ModuleNotFoundError",
     "evalue": "No module named 'sklearn'",
     "output_type": "error",
     "traceback": [
      "\u001b[0;31m---------------------------------------------------------------------------\u001b[0m",
      "\u001b[0;31mModuleNotFoundError\u001b[0m                       Traceback (most recent call last)",
      "Cell \u001b[0;32mIn[9], line 1\u001b[0m\n\u001b[0;32m----> 1\u001b[0m \u001b[38;5;28;01mfrom\u001b[39;00m\u001b[38;5;250m \u001b[39m\u001b[38;5;21;01msklearn\u001b[39;00m\u001b[38;5;21;01m.\u001b[39;00m\u001b[38;5;21;01mmodel_selection\u001b[39;00m\u001b[38;5;250m \u001b[39m\u001b[38;5;28;01mimport\u001b[39;00m train_test_split\n\u001b[1;32m      3\u001b[0m X_train, X_test, y_train, y_test \u001b[38;5;241m=\u001b[39m train_test_split(X, y, test_size\u001b[38;5;241m=\u001b[39m\u001b[38;5;241m0.25\u001b[39m, random_state\u001b[38;5;241m=\u001b[39m\u001b[38;5;241m42\u001b[39m)\n",
      "\u001b[0;31mModuleNotFoundError\u001b[0m: No module named 'sklearn'"
     ]
    }
   ],
   "source": [
    "from sklearn.model_selection import train_test_split\n",
    "\n",
    "X_train, X_test, y_train, y_test = train_test_split(X, y, test_size=0.25, random_state=42)\n"
   ]
  },
  {
   "cell_type": "code",
   "execution_count": 42,
   "metadata": {},
   "outputs": [],
   "source": [
    "from sklearn.preprocessing import StandardScaler\n",
    "\n",
    "sc = StandardScaler()\n",
    "X_train = sc.fit_transform(X_train)\n",
    "X_test = sc.fit_transform(X_test)"
   ]
  },
  {
   "cell_type": "code",
   "execution_count": 43,
   "metadata": {},
   "outputs": [
    {
     "data": {
      "text/plain": [
       "['02_Preprocessing.ipynb']"
      ]
     },
     "execution_count": 43,
     "metadata": {},
     "output_type": "execute_result"
    }
   ],
   "source": [
    "from joblib import dump\n",
    "dump(sc, \"02_Preprocessing.ipynb\")\n"
   ]
  },
  {
   "cell_type": "code",
   "execution_count": null,
   "metadata": {},
   "outputs": [],
   "source": []
  },
  {
   "cell_type": "code",
   "execution_count": null,
   "metadata": {},
   "outputs": [],
   "source": []
  },
  {
   "cell_type": "code",
   "execution_count": null,
   "metadata": {},
   "outputs": [],
   "source": []
  }
 ],
 "metadata": {
  "kernelspec": {
   "display_name": "Python 3",
   "language": "python",
   "name": "python3"
  },
  "language_info": {
   "codemirror_mode": {
    "name": "ipython",
    "version": 3
   },
   "file_extension": ".py",
   "mimetype": "text/x-python",
   "name": "python",
   "nbconvert_exporter": "python",
   "pygments_lexer": "ipython3",
   "version": "3.9.6"
  },
  "orig_nbformat": 4
 },
 "nbformat": 4,
 "nbformat_minor": 2
}
