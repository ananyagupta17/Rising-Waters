{
 "cells": [
  {
   "cell_type": "code",
   "execution_count": 5,
   "metadata": {},
   "outputs": [],
   "source": [
    "from sklearn.pipeline import Pipeline\n",
    "from sklearn.preprocessing import StandardScaler\n",
    "from sklearn.neighbors import KNeighborsClassifier\n",
    "from imblearn.over_sampling import SMOTE\n",
    "from sklearn.model_selection import train_test_split\n",
    "import pandas as pd\n",
    "import pickle\n",
    "\n",
    "df = pd.read_excel('../data/clean_data.xlsx')\n",
    "X = df.drop('flood', axis=1)\n",
    "y = df['flood']\n",
    "\n",
    "X_train, X_test, y_train, y_test = train_test_split(X, y, test_size=0.2, random_state=42)\n",
    "\n",
    "smote = SMOTE(random_state=42, sampling_strategy=1.0)\n",
    "X_resampled, y_resampled = smote.fit_resample(X_train, y_train)\n",
    "# Create pipeline and fit on resampled data\n",
    "pipeline = Pipeline([\n",
    "    ('scaler', StandardScaler()),\n",
    "    ('knn', KNeighborsClassifier(n_neighbors=1))\n",
    "])\n",
    "\n",
    "pipeline.fit(X_resampled, y_resampled)\n",
    "\n",
    "# Save the pipeline\n",
    "with open('../models/knn_pipeline.pkl', 'wb') as f:\n",
    "    pickle.dump(pipeline,f)\n"
   ]
  },
  {
   "cell_type": "code",
   "execution_count": null,
   "metadata": {},
   "outputs": [],
   "source": [
    "from sklearn.pipeline import Pipeline\n",
    "from sklearn.preprocessing import StandardScaler\n",
    "from sklearn.neighbors import KNeighborsClassifier\n",
    "from imblearn.over_sampling import SMOTE\n",
    "import pickle\n",
    "\n",
    "# SMOTE with full balance\n",
    "smote = SMOTE(random_state=42, sampling_strategy=1.0)\n",
    "X_resampled, y_resampled = smote.fit_resample(X_train, y_train)\n",
    "\n",
    "# Pipeline with KNN\n",
    "pipeline = Pipeline([\n",
    "    ('scaler', StandardScaler()),\n",
    "    ('knn', KNeighborsClassifier(n_neighbors=2))\n",
    "])\n",
    "\n",
    "pipeline.fit(X_resampled, y_resampled)\n",
    "\n",
    "# Save pipeline\n",
    "with open('../models/knn_pipeline.pkl', 'wb') as f:\n",
    "    pickle.dump(pipeline, f)\n"
   ]
  }
 ],
 "metadata": {
  "kernelspec": {
   "display_name": "flask-ml",
   "language": "python",
   "name": "python3"
  },
  "language_info": {
   "codemirror_mode": {
    "name": "ipython",
    "version": 3
   },
   "file_extension": ".py",
   "mimetype": "text/x-python",
   "name": "python",
   "nbconvert_exporter": "python",
   "pygments_lexer": "ipython3",
   "version": "3.12.11"
  }
 },
 "nbformat": 4,
 "nbformat_minor": 2
}
